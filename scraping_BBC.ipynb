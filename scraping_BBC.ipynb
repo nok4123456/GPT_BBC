{
 "cells": [
  {
   "cell_type": "markdown",
   "metadata": {},
   "source": [
    "# A Scraping Script that can scape the data from the website and store it in a csv file\n"
   ]
  },
  {
   "cell_type": "code",
   "execution_count": null,
   "metadata": {},
   "outputs": [],
   "source": [
    "from bs4 import BeautifulSoup\n",
    "import requests\n",
    "import polars as pl\n",
    "\n",
    "ROOT_WEBSITE = \"https://www.bbc.com\"\n",
    "NEWS_WEBSITE = \"https://www.bbc.com/news\"\n",
    "\n",
    "response = requests.get(NEWS_WEBSITE)\n",
    "content = response.text\n",
    "content_element: BeautifulSoup = BeautifulSoup(content, \"lxml\")\n",
    "most_read_element = content_element.find(\"div\", class_=\"nw-c-most-read\")\n",
    "most_read_links_elements_list = most_read_element.find_all(\"a\")\n",
    "df_schema = {\"title\": pl.Utf8, \"link\": pl.Utf8, \"content\": pl.Utf8, \"image\": pl.Utf8}\n",
    "all_news_df = pl.DataFrame(schema=df_schema)\n",
    "\n",
    "for most_read_links_elements in most_read_links_elements_list:\n",
    "    title = most_read_links_elements.text\n",
    "    link = ROOT_WEBSITE + most_read_links_elements[\"href\"]\n",
    "    new_df = pl.DataFrame(\n",
    "        {\"title\": [title], \"link\": [link], \"content\": \"None\", \"image\": \"None\"}\n",
    "    )\n",
    "    all_news_df = all_news_df.extend(new_df)\n",
    "\n",
    "all_news_df"
   ]
  },
  {
   "cell_type": "code",
   "execution_count": null,
   "metadata": {},
   "outputs": [],
   "source": [
    "news = []\n",
    "for row in all_news_df.rows(named=True):\n",
    "    link = row[\"link\"]\n",
    "    target_news_url = link\n",
    "    response = requests.get(target_news_url)\n",
    "    \n",
    "    content = response.text\n",
    "    content_element: BeautifulSoup = BeautifulSoup(content, \"lxml\")\n",
    "    article_element = content_element.find(\"article\")\n",
    "    \n",
    "    image_container_element = article_element.find(\n",
    "        \"div\", {\"data-component\": \"image-block\"} )\n",
    "    image_element = image_container_element.find(\"img\")\n",
    "    row[\"image\"] = image_element[\"src\"]\n",
    "    \n",
    "    text_elements_list = article_element.find_all(\n",
    "        \"div\", {\"data-component\": \"text-block\"} ) \n",
    "    new_content = \"\"\n",
    "    for text_element in text_elements_list:\n",
    "        text = text_element.text\n",
    "        new_content += text\n",
    "    row[\"content\"] = new_content\n",
    "    \n",
    "    news.append(row)\n",
    "\n",
    "all_news_df = pl.DataFrame(news , schema=df_schema)\n",
    "all_news_df.write_csv(\"news.csv\")"
   ]
  }
 ],
 "metadata": {
  "kernelspec": {
   "display_name": "data_project",
   "language": "python",
   "name": "python3"
  },
  "language_info": {
   "codemirror_mode": {
    "name": "ipython",
    "version": 3
   },
   "file_extension": ".py",
   "mimetype": "text/x-python",
   "name": "python",
   "nbconvert_exporter": "python",
   "pygments_lexer": "ipython3",
   "version": "3.10.11"
  }
 },
 "nbformat": 4,
 "nbformat_minor": 2
}
