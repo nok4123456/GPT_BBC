{
 "cells": [
  {
   "cell_type": "markdown",
   "metadata": {},
   "source": [
    "# Testing the connection to the backend database"
   ]
  },
  {
   "cell_type": "markdown",
   "metadata": {},
   "source": [
    "1. Testing it can access the get request to the backend"
   ]
  },
  {
   "cell_type": "code",
   "execution_count": 24,
   "metadata": {},
   "outputs": [
    {
     "name": "stdout",
     "output_type": "stream",
     "text": [
      "http://localhost:8000/api/v1/\n",
      "200\n",
      "[{'id': '6565aa03d4480bc020d9e0be', 'title': 'Wake up', 'description': 'Sleeping too much', 'complete': False, 'name': ''}, {'id': '6565aa7a7e8f3519db4cb9ae', 'title': 'sleep', 'description': 'sleep 8 hours', 'complete': False, 'name': ''}, {'id': '6565aaf05ce51e275736ae34', 'title': 'sleeping', 'description': 'sleep 8 hours', 'complete': False, 'name': ''}, {'id': '6565b19924fd484532b47b2e', 'title': '', 'description': '', 'complete': False, 'name': 'Ken'}]\n"
     ]
    }
   ],
   "source": [
    "import requests\n",
    "import json\n",
    "import urllib\n",
    "\n",
    "BACKEND_NETLOC = \"http://localhost:8000\"\n",
    "\n",
    "get_path = \"/api/v1/\"\n",
    "\n",
    "url = urllib.parse.urljoin(BACKEND_NETLOC, get_path)\n",
    "\n",
    "res = requests.get(url)\n",
    "\n",
    "print(res.status_code)\n",
    "data = res.json()\n",
    "\n",
    "print(data['data'])"
   ]
  },
  {
   "cell_type": "markdown",
   "metadata": {},
   "source": [
    "2. Testing the post request to the backend"
   ]
  },
  {
   "cell_type": "code",
   "execution_count": null,
   "metadata": {},
   "outputs": [],
   "source": [
    "TO_DO_DATA_DEMO ={\n",
    "    \"title\": \"test\",\n",
    "    \"description\": \"test\",\n",
    "}\n",
    "\n",
    "post_path = \"/api/v1/\""
   ]
  }
 ],
 "metadata": {
  "kernelspec": {
   "display_name": "data_project",
   "language": "python",
   "name": "python3"
  },
  "language_info": {
   "codemirror_mode": {
    "name": "ipython",
    "version": 3
   },
   "file_extension": ".py",
   "mimetype": "text/x-python",
   "name": "python",
   "nbconvert_exporter": "python",
   "pygments_lexer": "ipython3",
   "version": "3.10.11"
  }
 },
 "nbformat": 4,
 "nbformat_minor": 2
}
